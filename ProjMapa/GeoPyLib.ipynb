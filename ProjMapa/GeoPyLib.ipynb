{
 "cells": [
  {
   "cell_type": "code",
   "execution_count": 7,
   "metadata": {},
   "outputs": [],
   "source": [
    "import folium\n",
    "\n",
    "class Map:\n",
    "    def __init__(self, center, zoom):\n",
    "        self.center = center\n",
    "        self.zoom = zoom\n",
    "        self.layers = []\n",
    "    \n",
    "    def add_layer(self, layer):\n",
    "        self.layers.append(layer)\n",
    "    \n",
    "    def remove_layer(self, layer):\n",
    "        self.layers.remove(layer)\n",
    "    \n",
    "    def set_zoom(self, zoom):\n",
    "        self.zoom = zoom\n",
    "    \n",
    "    def set_center(self, center):\n",
    "        self.center = center\n",
    "    \n",
    "    def create_marcador(self,lat,lon,titulo):\n",
    "        marker = folium.Marker(location=[lat, lon], popup=titulo)\n",
    "        return marker\n",
    "    \n",
    "    def show(self):\n",
    "        m = folium.Map(location=[self.center[0], self.center[1]], zoom_start=self.zoom)\n",
    "        for layer in self.layers:\n",
    "            m.add_child(layer)\n",
    "        return m"
   ]
  },
  {
   "attachments": {},
   "cell_type": "markdown",
   "metadata": {},
   "source": [
    "## VISUALIZAR MAPA"
   ]
  },
  {
   "cell_type": "code",
   "execution_count": 8,
   "metadata": {},
   "outputs": [
    {
     "data": {
      "text/html": [
       "<div style=\"width:100%;\"><div style=\"position:relative;width:100%;height:0;padding-bottom:60%;\"><span style=\"color:#565656\">Make this Notebook Trusted to load map: File -> Trust Notebook</span><iframe srcdoc=\"&lt;!DOCTYPE html&gt;\n",
       "&lt;html&gt;\n",
       "&lt;head&gt;\n",
       "    \n",
       "    &lt;meta http-equiv=&quot;content-type&quot; content=&quot;text/html; charset=UTF-8&quot; /&gt;\n",
       "    \n",
       "        &lt;script&gt;\n",
       "            L_NO_TOUCH = false;\n",
       "            L_DISABLE_3D = false;\n",
       "        &lt;/script&gt;\n",
       "    \n",
       "    &lt;style&gt;html, body {width: 100%;height: 100%;margin: 0;padding: 0;}&lt;/style&gt;\n",
       "    &lt;style&gt;#map {position:absolute;top:0;bottom:0;right:0;left:0;}&lt;/style&gt;\n",
       "    &lt;script src=&quot;https://cdn.jsdelivr.net/npm/leaflet@1.9.3/dist/leaflet.js&quot;&gt;&lt;/script&gt;\n",
       "    &lt;script src=&quot;https://code.jquery.com/jquery-1.12.4.min.js&quot;&gt;&lt;/script&gt;\n",
       "    &lt;script src=&quot;https://cdn.jsdelivr.net/npm/bootstrap@5.2.2/dist/js/bootstrap.bundle.min.js&quot;&gt;&lt;/script&gt;\n",
       "    &lt;script src=&quot;https://cdnjs.cloudflare.com/ajax/libs/Leaflet.awesome-markers/2.0.2/leaflet.awesome-markers.js&quot;&gt;&lt;/script&gt;\n",
       "    &lt;link rel=&quot;stylesheet&quot; href=&quot;https://cdn.jsdelivr.net/npm/leaflet@1.9.3/dist/leaflet.css&quot;/&gt;\n",
       "    &lt;link rel=&quot;stylesheet&quot; href=&quot;https://cdn.jsdelivr.net/npm/bootstrap@5.2.2/dist/css/bootstrap.min.css&quot;/&gt;\n",
       "    &lt;link rel=&quot;stylesheet&quot; href=&quot;https://netdna.bootstrapcdn.com/bootstrap/3.0.0/css/bootstrap.min.css&quot;/&gt;\n",
       "    &lt;link rel=&quot;stylesheet&quot; href=&quot;https://cdn.jsdelivr.net/npm/@fortawesome/fontawesome-free@6.2.0/css/all.min.css&quot;/&gt;\n",
       "    &lt;link rel=&quot;stylesheet&quot; href=&quot;https://cdnjs.cloudflare.com/ajax/libs/Leaflet.awesome-markers/2.0.2/leaflet.awesome-markers.css&quot;/&gt;\n",
       "    &lt;link rel=&quot;stylesheet&quot; href=&quot;https://cdn.jsdelivr.net/gh/python-visualization/folium/folium/templates/leaflet.awesome.rotate.min.css&quot;/&gt;\n",
       "    \n",
       "            &lt;meta name=&quot;viewport&quot; content=&quot;width=device-width,\n",
       "                initial-scale=1.0, maximum-scale=1.0, user-scalable=no&quot; /&gt;\n",
       "            &lt;style&gt;\n",
       "                #map_eb39a6f626c32cfce695ad43535ea2f5 {\n",
       "                    position: relative;\n",
       "                    width: 100.0%;\n",
       "                    height: 100.0%;\n",
       "                    left: 0.0%;\n",
       "                    top: 0.0%;\n",
       "                }\n",
       "                .leaflet-container { font-size: 1rem; }\n",
       "            &lt;/style&gt;\n",
       "        \n",
       "&lt;/head&gt;\n",
       "&lt;body&gt;\n",
       "    \n",
       "    \n",
       "            &lt;div class=&quot;folium-map&quot; id=&quot;map_eb39a6f626c32cfce695ad43535ea2f5&quot; &gt;&lt;/div&gt;\n",
       "        \n",
       "&lt;/body&gt;\n",
       "&lt;script&gt;\n",
       "    \n",
       "    \n",
       "            var map_eb39a6f626c32cfce695ad43535ea2f5 = L.map(\n",
       "                &quot;map_eb39a6f626c32cfce695ad43535ea2f5&quot;,\n",
       "                {\n",
       "                    center: [-7.0883544, -41.4509053],\n",
       "                    crs: L.CRS.EPSG3857,\n",
       "                    zoom: 15,\n",
       "                    zoomControl: true,\n",
       "                    preferCanvas: false,\n",
       "                }\n",
       "            );\n",
       "\n",
       "            \n",
       "\n",
       "        \n",
       "    \n",
       "            var tile_layer_3394c36eb0345fefb2ab9b552ccbc1fe = L.tileLayer(\n",
       "                &quot;https://{s}.tile.openstreetmap.org/{z}/{x}/{y}.png&quot;,\n",
       "                {&quot;attribution&quot;: &quot;Data by \\u0026copy; \\u003ca target=\\&quot;_blank\\&quot; href=\\&quot;http://openstreetmap.org\\&quot;\\u003eOpenStreetMap\\u003c/a\\u003e, under \\u003ca target=\\&quot;_blank\\&quot; href=\\&quot;http://www.openstreetmap.org/copyright\\&quot;\\u003eODbL\\u003c/a\\u003e.&quot;, &quot;detectRetina&quot;: false, &quot;maxNativeZoom&quot;: 18, &quot;maxZoom&quot;: 18, &quot;minZoom&quot;: 0, &quot;noWrap&quot;: false, &quot;opacity&quot;: 1, &quot;subdomains&quot;: &quot;abc&quot;, &quot;tms&quot;: false}\n",
       "            ).addTo(map_eb39a6f626c32cfce695ad43535ea2f5);\n",
       "        \n",
       "    \n",
       "            var marker_bc22b334ef81ed7684dcfb723928d146 = L.marker(\n",
       "                [-7.0823544, -41.4685053],\n",
       "                {}\n",
       "            ).addTo(map_eb39a6f626c32cfce695ad43535ea2f5);\n",
       "        \n",
       "    \n",
       "        var popup_74a3fe1d9f34697a334f9934e5456d05 = L.popup({&quot;maxWidth&quot;: &quot;100%&quot;});\n",
       "\n",
       "        \n",
       "            \n",
       "                var html_fd7b0e07fc215857c0c433cad3ea7cb4 = $(`&lt;div id=&quot;html_fd7b0e07fc215857c0c433cad3ea7cb4&quot; style=&quot;width: 100.0%; height: 100.0%;&quot;&gt;Centro de Picos&lt;/div&gt;`)[0];\n",
       "                popup_74a3fe1d9f34697a334f9934e5456d05.setContent(html_fd7b0e07fc215857c0c433cad3ea7cb4);\n",
       "            \n",
       "        \n",
       "\n",
       "        marker_bc22b334ef81ed7684dcfb723928d146.bindPopup(popup_74a3fe1d9f34697a334f9934e5456d05)\n",
       "        ;\n",
       "\n",
       "        \n",
       "    \n",
       "    \n",
       "            var marker_83ddffebfc8796fff65b339eeb57abbd = L.marker(\n",
       "                [-7.0814284, -41.43561163598873],\n",
       "                {}\n",
       "            ).addTo(map_eb39a6f626c32cfce695ad43535ea2f5);\n",
       "        \n",
       "    \n",
       "        var popup_e758e9bd4a2ed821af14bd54a99db707 = L.popup({&quot;maxWidth&quot;: &quot;100%&quot;});\n",
       "\n",
       "        \n",
       "            \n",
       "                var html_3fb14ec86841472a0d277811bd59d5f7 = $(`&lt;div id=&quot;html_3fb14ec86841472a0d277811bd59d5f7&quot; style=&quot;width: 100.0%; height: 100.0%;&quot;&gt;UFPI&lt;/div&gt;`)[0];\n",
       "                popup_e758e9bd4a2ed821af14bd54a99db707.setContent(html_3fb14ec86841472a0d277811bd59d5f7);\n",
       "            \n",
       "        \n",
       "\n",
       "        marker_83ddffebfc8796fff65b339eeb57abbd.bindPopup(popup_e758e9bd4a2ed821af14bd54a99db707)\n",
       "        ;\n",
       "\n",
       "        \n",
       "    \n",
       "&lt;/script&gt;\n",
       "&lt;/html&gt;\" style=\"position:absolute;width:100%;height:100%;left:0;top:0;border:none !important;\" allowfullscreen webkitallowfullscreen mozallowfullscreen></iframe></div></div>"
      ],
      "text/plain": [
       "<folium.folium.Map at 0x2021be90730>"
      ]
     },
     "execution_count": 8,
     "metadata": {},
     "output_type": "execute_result"
    }
   ],
   "source": [
    "#VISUALIZAR MAPA\n",
    "lat=-7.0883544 \n",
    "lon=-41.4509053\n",
    "\n",
    "m = Map(center=[lat, lon], zoom=20)\n",
    "\n",
    "lat=-7.0823544 \n",
    "lon=-41.4685053\n",
    "popup='Centro de Picos'\n",
    "marker = m.create_marcador(lat,lon,popup)\n",
    "m.add_layer(marker)\n",
    "\n",
    "lat=-7.0814284\n",
    "lon=-41.43561163598873\n",
    "popup='UFPI'\n",
    "marker = m.create_marcador(lat,lon,popup)\n",
    "m.add_layer(marker)\n",
    "\n",
    "m.set_zoom(15)\n",
    "m.show()"
   ]
  },
  {
   "cell_type": "code",
   "execution_count": 9,
   "metadata": {},
   "outputs": [],
   "source": [
    "import math\n",
    "\n",
    "class Coordinate:\n",
    "    def __init__(self, lat, lon, alt=None):\n",
    "        self.latitude = lat\n",
    "        self.longitude = lon\n",
    "        self.altitude = alt\n",
    "        \n",
    "    def distance(self, other, algorithm='euclidean'):\n",
    "        # calcula a distância entre esta coordenada e outra, usando o algoritmo especificado\n",
    "        if algorithm == 'euclidean':\n",
    "            # fórmula da distância euclidiana entre dois pontos\n",
    "            return math.sqrt((self.latitude - other.latitude)**2 + (self.longitude - other.longitude)**2)\n",
    "        elif algorithm == 'haversine':\n",
    "            # fórmula de Haversine para distância entre dois pontos em uma esfera (como a Terra)\n",
    "            R = 6371  # raio médio da Terra em quilômetros\n",
    "            d_lat = math.radians(other.latitude - self.latitude)\n",
    "            d_lon = math.radians(other.longitude - self.longitude)\n",
    "            lat1 = math.radians(self.latitude)\n",
    "            lat2 = math.radians(other.latitude)\n",
    "            a = math.sin(d_lat/2)**2 + math.sin(d_lon/2)**2 * math.cos(lat1) * math.cos(lat2)\n",
    "            c = 2 * math.atan2(math.sqrt(a), math.sqrt(1-a))\n",
    "            return R * c\n",
    "        else:\n",
    "            raise ValueError(f\"Unknown distance algorithm: {algorithm}\")\n"
   ]
  },
  {
   "attachments": {},
   "cell_type": "markdown",
   "metadata": {},
   "source": [
    "## CALCULA DISTANCIA ENTRE DOIS PONTOS"
   ]
  },
  {
   "cell_type": "code",
   "execution_count": 10,
   "metadata": {},
   "outputs": [
    {
     "name": "stdout",
     "output_type": "stream",
     "text": [
      "Distância de Haversine: 360.75 km\n"
     ]
    }
   ],
   "source": [
    "# criando duas coordenadas\n",
    "p1 = Coordinate(lat=-22.906847, lon=-43.172897)\n",
    "p2 = Coordinate(lat=-23.5505, lon=-46.6333)\n",
    "\n",
    "# calculando a distância de Haversine entre as duas coordenadas\n",
    "dist_haversine = p1.distance(p2, algorithm='haversine')\n",
    "print(f\"Distância de Haversine: {dist_haversine:.2f} km\")"
   ]
  },
  {
   "cell_type": "code",
   "execution_count": 11,
   "metadata": {},
   "outputs": [],
   "source": [
    "import requests\n",
    "\n",
    "class Location:\n",
    "    def __init__(self, name, address, latitude, longitude):\n",
    "        self.name = name\n",
    "        self.address = address\n",
    "        self.latitude = latitude\n",
    "        self.longitude = longitude\n",
    "        self.temperature = None\n",
    "        self.humidity = None\n",
    "        self.pressure = None\n",
    "\n",
    "    def set_weather(self, api_key,lat,lon):\n",
    "        #url = f\"https://api.openweathermap.org/data/2.5/weather?lat={lat}&lon={lon}&appid={api_key}\"\n",
    "        url = f'https://api.openweathermap.org/data/2.5/weather?lat={lat}&lon={lon}&units=metric&appid={api_key}'\n",
    "        response = requests.get(url)\n",
    "        data = response.json()\n",
    "        \n",
    "        if 'main' in data:\n",
    "            self.temperature = data[\"main\"][\"temp\"]\n",
    "            self.humidity = data[\"main\"][\"humidity\"]\n",
    "            self.pressure = data[\"main\"][\"pressure\"]\n",
    "        else:\n",
    "            self.temperature = None\n",
    "            self.humidity = None\n",
    "            self.pressure = None\n",
    "\n",
    "    def get_coordinates(self):\n",
    "        return self.latitude, self.longitude\n"
   ]
  },
  {
   "attachments": {},
   "cell_type": "markdown",
   "metadata": {},
   "source": [
    "## DADOS METEROLOGICOS DA LOCALIZAÇÃO"
   ]
  },
  {
   "cell_type": "code",
   "execution_count": 12,
   "metadata": {},
   "outputs": [
    {
     "name": "stdout",
     "output_type": "stream",
     "text": [
      "Temperatura de São Paulo: 21.97°C\n",
      "Humidade de São Paulo: 85%\n",
      "Pressão de São Paulo: 991 hPa\n"
     ]
    }
   ],
   "source": [
    "# cria um objeto Location para a cidade de Nova York\n",
    "lat =-23.5505 \n",
    "lon=-46.6333\n",
    "nyc = Location(\"São Paulo\", \"São Paulo, Brasil\", lat,lon)\n",
    "\n",
    "# obtém as informações meteorológicas para a cidade de Nova York\n",
    "nyc.set_weather('1fad30734db859e67fe4b73213276fbf',lat ,lon)\n",
    "\n",
    "# exibe as informações meteorológicas\n",
    "print(f\"Temperatura de {nyc.name}: {nyc.temperature}°C\")\n",
    "print(f\"Humidade de {nyc.name}: {nyc.humidity}%\")\n",
    "print(f\"Pressão de {nyc.name}: {nyc.pressure} hPa\")\n"
   ]
  },
  {
   "attachments": {},
   "cell_type": "markdown",
   "metadata": {},
   "source": [
    "## Converte endereços em coordenadas e vice-versa"
   ]
  },
  {
   "cell_type": "code",
   "execution_count": 13,
   "metadata": {},
   "outputs": [],
   "source": [
    "import requests\n",
    "import json\n",
    "\n",
    "class OSMGeocoder:\n",
    "    def __init__(self):\n",
    "        self.base_url = \"https://nominatim.openstreetmap.org/search\"\n",
    "\n",
    "    def geocode(self, address):\n",
    "        params = {\n",
    "            \"q\": address,\n",
    "            \"format\": \"json\",\n",
    "            \"addressdetails\": 1\n",
    "        }\n",
    "        response = requests.get(self.base_url, params=params)\n",
    "        data = json.loads(response.text)\n",
    "        if data:\n",
    "            location = data[0]\n",
    "            return location[\"lat\"], location[\"lon\"]\n",
    "        else:\n",
    "            return None\n",
    "     \n",
    "    def reverse_geocode(self, latitude, longitude):\n",
    "        self.url = \"https://nominatim.openstreetmap.org/reverse\"\n",
    "        try:\n",
    "            response = requests.get(\n",
    "                self.url,\n",
    "                params={\"format\": \"json\", \"lat\": latitude, \"lon\": longitude}\n",
    "            )\n",
    "            if response.ok:\n",
    "                data = response.json()\n",
    "                address = data.get(\"address\")\n",
    "                if address:\n",
    "                    state = address.get(\"state\")\n",
    "                    if not state:\n",
    "                        state = address.get(\"state_district\")\n",
    "                    if not state:\n",
    "                        state = address.get(\"region\")\n",
    "                    if not state:\n",
    "                        state = address.get(\"county\")\n",
    "                    if not state:\n",
    "                        state = address.get(\"city\")\n",
    "                    if not state:\n",
    "                        state = address.get(\"town\")\n",
    "                    if not state:\n",
    "                        state = address.get(\"village\")\n",
    "                    if not state:\n",
    "                        state = address.get(\"hamlet\")\n",
    "                    if not state:\n",
    "                        state = address.get(\"island\")\n",
    "                    \n",
    "                    road = address.get(\"road\")\n",
    "                    if road:\n",
    "                        return state, road\n",
    "                    else:\n",
    "                        return None, None\n",
    "                else:\n",
    "                    return None, None\n",
    "            else:\n",
    "                response.raise_for_status()\n",
    "        except requests.exceptions.HTTPError as error:\n",
    "            print(f\"HTTP error: {error}\")\n",
    "        except requests.exceptions.RequestException as error:\n",
    "            print(f\"Request error: {error}\")"
   ]
  },
  {
   "attachments": {},
   "cell_type": "markdown",
   "metadata": {},
   "source": [
    "## Endereço em Coordenadas"
   ]
  },
  {
   "cell_type": "code",
   "execution_count": 14,
   "metadata": {},
   "outputs": [
    {
     "name": "stdout",
     "output_type": "stream",
     "text": [
      "A coordenada da Picos, Piaui, Brasil é: ('-7.0823544', '-41.4685053')\n"
     ]
    }
   ],
   "source": [
    "geocoder = OSMGeocoder()\n",
    "address = \"Picos, Piaui, Brasil\"\n",
    "coordinates = geocoder.geocode(address)\n",
    "if coordinates:\n",
    "    print(f\"A coordenada da {address} é: {coordinates}\")\n",
    "else:\n",
    "    print(f\"Não foi possível localizar coordenadas {address}\")"
   ]
  },
  {
   "attachments": {},
   "cell_type": "markdown",
   "metadata": {},
   "source": [
    "## Coordenadas em Endereço"
   ]
  },
  {
   "cell_type": "code",
   "execution_count": 15,
   "metadata": {},
   "outputs": [
    {
     "name": "stdout",
     "output_type": "stream",
     "text": [
      "O endereço da coordenadas (-23.55086445, -46.631580600895475) é: ('São Paulo', 'Rua Silveira Martins')\n"
     ]
    }
   ],
   "source": [
    "geocoder = OSMGeocoder()\n",
    "latitude, longitude = -23.55086445, -46.631580600895475\n",
    "address = geocoder.reverse_geocode(latitude, longitude)\n",
    "if address:\n",
    "    print(f\"O endereço da coordenadas ({latitude}, {longitude}) é: {address}\")\n",
    "else:\n",
    "    print(f\"Não foi possível localizar coordenadas ({latitude}, {longitude})\")"
   ]
  }
 ],
 "metadata": {
  "kernelspec": {
   "display_name": "Python 3",
   "language": "python",
   "name": "python3"
  },
  "language_info": {
   "codemirror_mode": {
    "name": "ipython",
    "version": 3
   },
   "file_extension": ".py",
   "mimetype": "text/x-python",
   "name": "python",
   "nbconvert_exporter": "python",
   "pygments_lexer": "ipython3",
   "version": "3.10.10"
  },
  "orig_nbformat": 4,
  "vscode": {
   "interpreter": {
    "hash": "ede388bf467786bd40840307ea15c081772b143751f4783d1ec3794cbd01c803"
   }
  }
 },
 "nbformat": 4,
 "nbformat_minor": 2
}
